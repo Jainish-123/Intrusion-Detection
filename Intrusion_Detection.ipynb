{
  "nbformat": 4,
  "nbformat_minor": 0,
  "metadata": {
    "colab": {
      "provenance": []
    },
    "kernelspec": {
      "name": "python3",
      "display_name": "Python 3"
    },
    "language_info": {
      "name": "python"
    }
  },
  "cells": [
    {
      "cell_type": "code",
      "execution_count": null,
      "metadata": {
        "colab": {
          "base_uri": "https://localhost:8080/",
          "height": 73
        },
        "id": "Rg8Pu0UKIwTr",
        "outputId": "61c4ec6b-0a52-4880-f7a0-d5eab1494bee"
      },
      "outputs": [
        {
          "output_type": "display_data",
          "data": {
            "text/plain": [
              "<IPython.core.display.HTML object>"
            ],
            "text/html": [
              "\n",
              "     <input type=\"file\" id=\"files-dd9f874a-36ca-492e-9c75-da0f08c42aa2\" name=\"files[]\" multiple disabled\n",
              "        style=\"border:none\" />\n",
              "     <output id=\"result-dd9f874a-36ca-492e-9c75-da0f08c42aa2\">\n",
              "      Upload widget is only available when the cell has been executed in the\n",
              "      current browser session. Please rerun this cell to enable.\n",
              "      </output>\n",
              "      <script>// Copyright 2017 Google LLC\n",
              "//\n",
              "// Licensed under the Apache License, Version 2.0 (the \"License\");\n",
              "// you may not use this file except in compliance with the License.\n",
              "// You may obtain a copy of the License at\n",
              "//\n",
              "//      http://www.apache.org/licenses/LICENSE-2.0\n",
              "//\n",
              "// Unless required by applicable law or agreed to in writing, software\n",
              "// distributed under the License is distributed on an \"AS IS\" BASIS,\n",
              "// WITHOUT WARRANTIES OR CONDITIONS OF ANY KIND, either express or implied.\n",
              "// See the License for the specific language governing permissions and\n",
              "// limitations under the License.\n",
              "\n",
              "/**\n",
              " * @fileoverview Helpers for google.colab Python module.\n",
              " */\n",
              "(function(scope) {\n",
              "function span(text, styleAttributes = {}) {\n",
              "  const element = document.createElement('span');\n",
              "  element.textContent = text;\n",
              "  for (const key of Object.keys(styleAttributes)) {\n",
              "    element.style[key] = styleAttributes[key];\n",
              "  }\n",
              "  return element;\n",
              "}\n",
              "\n",
              "// Max number of bytes which will be uploaded at a time.\n",
              "const MAX_PAYLOAD_SIZE = 100 * 1024;\n",
              "\n",
              "function _uploadFiles(inputId, outputId) {\n",
              "  const steps = uploadFilesStep(inputId, outputId);\n",
              "  const outputElement = document.getElementById(outputId);\n",
              "  // Cache steps on the outputElement to make it available for the next call\n",
              "  // to uploadFilesContinue from Python.\n",
              "  outputElement.steps = steps;\n",
              "\n",
              "  return _uploadFilesContinue(outputId);\n",
              "}\n",
              "\n",
              "// This is roughly an async generator (not supported in the browser yet),\n",
              "// where there are multiple asynchronous steps and the Python side is going\n",
              "// to poll for completion of each step.\n",
              "// This uses a Promise to block the python side on completion of each step,\n",
              "// then passes the result of the previous step as the input to the next step.\n",
              "function _uploadFilesContinue(outputId) {\n",
              "  const outputElement = document.getElementById(outputId);\n",
              "  const steps = outputElement.steps;\n",
              "\n",
              "  const next = steps.next(outputElement.lastPromiseValue);\n",
              "  return Promise.resolve(next.value.promise).then((value) => {\n",
              "    // Cache the last promise value to make it available to the next\n",
              "    // step of the generator.\n",
              "    outputElement.lastPromiseValue = value;\n",
              "    return next.value.response;\n",
              "  });\n",
              "}\n",
              "\n",
              "/**\n",
              " * Generator function which is called between each async step of the upload\n",
              " * process.\n",
              " * @param {string} inputId Element ID of the input file picker element.\n",
              " * @param {string} outputId Element ID of the output display.\n",
              " * @return {!Iterable<!Object>} Iterable of next steps.\n",
              " */\n",
              "function* uploadFilesStep(inputId, outputId) {\n",
              "  const inputElement = document.getElementById(inputId);\n",
              "  inputElement.disabled = false;\n",
              "\n",
              "  const outputElement = document.getElementById(outputId);\n",
              "  outputElement.innerHTML = '';\n",
              "\n",
              "  const pickedPromise = new Promise((resolve) => {\n",
              "    inputElement.addEventListener('change', (e) => {\n",
              "      resolve(e.target.files);\n",
              "    });\n",
              "  });\n",
              "\n",
              "  const cancel = document.createElement('button');\n",
              "  inputElement.parentElement.appendChild(cancel);\n",
              "  cancel.textContent = 'Cancel upload';\n",
              "  const cancelPromise = new Promise((resolve) => {\n",
              "    cancel.onclick = () => {\n",
              "      resolve(null);\n",
              "    };\n",
              "  });\n",
              "\n",
              "  // Wait for the user to pick the files.\n",
              "  const files = yield {\n",
              "    promise: Promise.race([pickedPromise, cancelPromise]),\n",
              "    response: {\n",
              "      action: 'starting',\n",
              "    }\n",
              "  };\n",
              "\n",
              "  cancel.remove();\n",
              "\n",
              "  // Disable the input element since further picks are not allowed.\n",
              "  inputElement.disabled = true;\n",
              "\n",
              "  if (!files) {\n",
              "    return {\n",
              "      response: {\n",
              "        action: 'complete',\n",
              "      }\n",
              "    };\n",
              "  }\n",
              "\n",
              "  for (const file of files) {\n",
              "    const li = document.createElement('li');\n",
              "    li.append(span(file.name, {fontWeight: 'bold'}));\n",
              "    li.append(span(\n",
              "        `(${file.type || 'n/a'}) - ${file.size} bytes, ` +\n",
              "        `last modified: ${\n",
              "            file.lastModifiedDate ? file.lastModifiedDate.toLocaleDateString() :\n",
              "                                    'n/a'} - `));\n",
              "    const percent = span('0% done');\n",
              "    li.appendChild(percent);\n",
              "\n",
              "    outputElement.appendChild(li);\n",
              "\n",
              "    const fileDataPromise = new Promise((resolve) => {\n",
              "      const reader = new FileReader();\n",
              "      reader.onload = (e) => {\n",
              "        resolve(e.target.result);\n",
              "      };\n",
              "      reader.readAsArrayBuffer(file);\n",
              "    });\n",
              "    // Wait for the data to be ready.\n",
              "    let fileData = yield {\n",
              "      promise: fileDataPromise,\n",
              "      response: {\n",
              "        action: 'continue',\n",
              "      }\n",
              "    };\n",
              "\n",
              "    // Use a chunked sending to avoid message size limits. See b/62115660.\n",
              "    let position = 0;\n",
              "    do {\n",
              "      const length = Math.min(fileData.byteLength - position, MAX_PAYLOAD_SIZE);\n",
              "      const chunk = new Uint8Array(fileData, position, length);\n",
              "      position += length;\n",
              "\n",
              "      const base64 = btoa(String.fromCharCode.apply(null, chunk));\n",
              "      yield {\n",
              "        response: {\n",
              "          action: 'append',\n",
              "          file: file.name,\n",
              "          data: base64,\n",
              "        },\n",
              "      };\n",
              "\n",
              "      let percentDone = fileData.byteLength === 0 ?\n",
              "          100 :\n",
              "          Math.round((position / fileData.byteLength) * 100);\n",
              "      percent.textContent = `${percentDone}% done`;\n",
              "\n",
              "    } while (position < fileData.byteLength);\n",
              "  }\n",
              "\n",
              "  // All done.\n",
              "  yield {\n",
              "    response: {\n",
              "      action: 'complete',\n",
              "    }\n",
              "  };\n",
              "}\n",
              "\n",
              "scope.google = scope.google || {};\n",
              "scope.google.colab = scope.google.colab || {};\n",
              "scope.google.colab._files = {\n",
              "  _uploadFiles,\n",
              "  _uploadFilesContinue,\n",
              "};\n",
              "})(self);\n",
              "</script> "
            ]
          },
          "metadata": {}
        },
        {
          "output_type": "stream",
          "name": "stdout",
          "text": [
            "Saving train_test_networkP.csv to train_test_networkP.csv\n"
          ]
        }
      ],
      "source": [
        "from google.colab import files\n",
        "uploaded = files.upload()"
      ]
    },
    {
      "cell_type": "code",
      "source": [
        "import pandas as pd\n",
        "\n",
        "# Load the dataset\n",
        "file_name = \"train_test_networkP.csv\"\n",
        "df = pd.read_csv(file_name)\n",
        "\n",
        "# Display dataset shape and columns\n",
        "print(\"Dataset Shape:\", df.shape)\n",
        "print(\"Columns:\", df.columns)"
      ],
      "metadata": {
        "colab": {
          "base_uri": "https://localhost:8080/"
        },
        "id": "aRRLKoHVK_8Z",
        "outputId": "b1863da2-f5fc-4e79-ed7e-cbd1474b6436"
      },
      "execution_count": null,
      "outputs": [
        {
          "output_type": "stream",
          "name": "stdout",
          "text": [
            "Dataset Shape: (211043, 31)\n",
            "Columns: Index(['proto', 'service', 'duration', 'src_bytes', 'dst_bytes', 'conn_state',\n",
            "       'missed_bytes', 'src_pkts', 'src_ip_bytes', 'dst_pkts', 'dst_ip_bytes',\n",
            "       'dns_query', 'dns_qclass', 'dns_qtype', 'dns_rcode', 'dns_AA', 'dns_RD',\n",
            "       'dns_RA', 'dns_rejected', 'ssl_version', 'ssl_cipher', 'ssl_resumed',\n",
            "       'ssl_established', 'ssl_subject', 'http_trans_depth', 'http_method',\n",
            "       'http_version', 'http_request_body_len', 'http_response_body_len',\n",
            "       'http_status_code', 'Label'],\n",
            "      dtype='object')\n"
          ]
        }
      ]
    },
    {
      "cell_type": "code",
      "source": [
        "\n",
        "import numpy as np\n",
        "\n",
        "# Set a random seed for reproducibility\n",
        "np.random.seed(42)\n",
        "\n",
        "# Shuffle the dataset\n",
        "df = df.sample(frac=1, random_state=42).reset_index(drop=True)\n",
        "\n",
        "# Split Labeled (5%) and Unlabeled (95%)\n",
        "labeled_df = df.sample(frac=0.05, random_state=42)\n",
        "unlabeled_df = df.drop(labeled_df.index)\n",
        "\n",
        "# Display the split\n",
        "print(\"Labeled Data Shape:\", labeled_df.shape)\n",
        "print(\"Unlabeled Data Shape:\", unlabeled_df.shape)\n"
      ],
      "metadata": {
        "id": "N9DSLN7Ng0eX",
        "colab": {
          "base_uri": "https://localhost:8080/"
        },
        "outputId": "704ceb2e-cb2f-4873-dc70-535505ff06d2"
      },
      "execution_count": null,
      "outputs": [
        {
          "output_type": "stream",
          "name": "stdout",
          "text": [
            "Labeled Data Shape: (10552, 31)\n",
            "Unlabeled Data Shape: (200491, 31)\n"
          ]
        }
      ]
    },
    {
      "cell_type": "code",
      "source": [
        "# from sklearn.model_selection import train_test_split\n",
        "\n",
        "# label_column = \"Label\"\n",
        "\n",
        "# # Drop labels from the Unlabeled Dataset\n",
        "# unlabeled_df_no_label = unlabeled_df.drop(columns=[label_column])\n",
        "\n",
        "# # Further split Unlabeled Data (Train 90% / Test 10%)\n",
        "# unlabeled_train_df, unlabeled_test_df = train_test_split(unlabeled_df_no_label, test_size=0.10, random_state=42)\n",
        "\n",
        "# # Display updated split sizes\n",
        "# print(\"Unlabeled Training Data Shape (without labels):\", unlabeled_train_df.shape)\n",
        "# print(\"Unlabeled Testing Data Shape (without labels):\", unlabeled_test_df.shape)\n",
        "\n",
        "\n",
        "from sklearn.model_selection import train_test_split\n",
        "\n",
        "label_column = \"Label\"\n",
        "\n",
        "# Save the labels before dropping them\n",
        "original_labels_unlabeled = unlabeled_df[label_column]  # Store true labels separately\n",
        "\n",
        "# Drop labels from the Unlabeled Dataset\n",
        "unlabeled_df_no_label = unlabeled_df.drop(columns=[label_column])\n",
        "\n",
        "# Further split Unlabeled Data (Train 90% / Test 10%)\n",
        "unlabeled_train_df, unlabeled_test_df, train_labels, test_labels = train_test_split(\n",
        "    unlabeled_df_no_label, original_labels_unlabeled, test_size=0.10, random_state=42\n",
        ")\n",
        "\n",
        "# Display updated split sizes\n",
        "print(\"Unlabeled Training Data Shape (without labels):\", unlabeled_train_df.shape)\n",
        "print(\"Unlabeled Testing Data Shape (without labels):\", unlabeled_test_df.shape)\n",
        "\n",
        "# Save the true labels for comparison\n",
        "train_labels.to_csv(\"unlabeled_train_true_labels.csv\", index=False)\n",
        "test_labels.to_csv(\"unlabeled_test_true_labels.csv\", index=False)\n",
        "print(\"True labels saved for comparison later.\")\n",
        "\n"
      ],
      "metadata": {
        "colab": {
          "base_uri": "https://localhost:8080/"
        },
        "id": "PIDZhNTxyLlu",
        "outputId": "1ff0059e-41f2-458b-dca2-adbeb8c3e35a"
      },
      "execution_count": null,
      "outputs": [
        {
          "output_type": "stream",
          "name": "stdout",
          "text": [
            "Unlabeled Training Data Shape (without labels): (180441, 30)\n",
            "Unlabeled Testing Data Shape (without labels): (20050, 30)\n",
            "True labels saved for comparison later.\n"
          ]
        }
      ]
    },
    {
      "cell_type": "code",
      "source": [
        "# Save datasets\n",
        "labeled_df.to_csv(\"labeled_data.csv\", index=False)\n",
        "print(\"Labeled dataset saved as 'labeled_data.csv'\")\n",
        "\n",
        "unlabeled_train_df.to_csv(\"unlabeled_train_data.csv\", index=False)\n",
        "print(\"Unlabeled train dataset saved as 'unlabeled_train_data.csv'\")\n",
        "\n",
        "unlabeled_test_df.to_csv(\"unlabeled_test_data.csv\", index=False)\n",
        "print(\"Unlabeled test dataset saved as 'unlabeled_test_data.csv'\")"
      ],
      "metadata": {
        "colab": {
          "base_uri": "https://localhost:8080/"
        },
        "id": "VnORJcZl1uwy",
        "outputId": "d1980b8a-a45a-45a9-afe9-7bd498637b92"
      },
      "execution_count": null,
      "outputs": [
        {
          "output_type": "stream",
          "name": "stdout",
          "text": [
            "Labeled dataset saved as 'labeled_data.csv'\n",
            "Unlabeled train dataset saved as 'unlabeled_train_data.csv'\n",
            "Unlabeled test dataset saved as 'unlabeled_test_data.csv'\n"
          ]
        }
      ]
    },
    {
      "cell_type": "code",
      "source": [
        "import pandas as pd\n",
        "from sklearn.model_selection import train_test_split\n",
        "\n",
        "# Load the labeled dataset\n",
        "labeled_df = pd.read_csv(\"labeled_data.csv\")\n",
        "\n",
        "# Define features (X) and labels (y)\n",
        "label_column = \"Label\"\n",
        "X = labeled_df.drop(columns=[label_column])  # Features\n",
        "y = labeled_df[label_column]  # Labels\n",
        "\n",
        "# Split into 80% Training and 20% Validation\n",
        "X_train, X_val, y_train, y_val = train_test_split(X, y, test_size=0.20, random_state=42)\n",
        "\n",
        "# Display dataset shapes\n",
        "print(\"Training Data Shape:\", X_train.shape)\n",
        "print(\"Validation Data Shape:\", X_val.shape)\n"
      ],
      "metadata": {
        "colab": {
          "base_uri": "https://localhost:8080/"
        },
        "id": "OiGud8QJ7ocO",
        "outputId": "7ec51204-556e-4f74-995a-3d3b8cd2be04"
      },
      "execution_count": null,
      "outputs": [
        {
          "output_type": "stream",
          "name": "stdout",
          "text": [
            "Training Data Shape: (8441, 30)\n",
            "Validation Data Shape: (2111, 30)\n"
          ]
        }
      ]
    },
    {
      "cell_type": "code",
      "source": [
        "from sklearn.ensemble import RandomForestClassifier, BaggingClassifier, AdaBoostClassifier\n",
        "from sklearn.tree import DecisionTreeClassifier\n",
        "from xgboost import XGBClassifier\n",
        "from sklearn.metrics import accuracy_score\n",
        "\n",
        "# Define models\n",
        "models = {\n",
        "    \"XGBoost\": XGBClassifier(eval_metric='logloss'),\n",
        "    \"Random Forest\": RandomForestClassifier(n_estimators=100, random_state=42),\n",
        "    \"Decision Tree\": DecisionTreeClassifier(random_state=42),\n",
        "    \"Bagging\" : BaggingClassifier(estimator=DecisionTreeClassifier(), n_estimators=50, random_state=42),\n",
        "    \"AdaBoost\": AdaBoostClassifier(n_estimators=50, random_state=42)\n",
        "}\n",
        "\n",
        "# Train each model and evaluate performance\n",
        "for name, model in models.items():\n",
        "    model.fit(X_train, y_train)  # Train the model\n",
        "    y_pred = model.predict(X_val)  # Predict on validation set\n",
        "    acc = accuracy_score(y_val, y_pred)  # Calculate accuracy\n",
        "    print(f\"{name} Accuracy: {acc:.4f}\")\n"
      ],
      "metadata": {
        "colab": {
          "base_uri": "https://localhost:8080/"
        },
        "id": "rdMTB6Dcb7wD",
        "outputId": "d79ac0a8-dc29-4a7d-fb74-ebfb95460c6f"
      },
      "execution_count": null,
      "outputs": [
        {
          "output_type": "stream",
          "name": "stdout",
          "text": [
            "XGBoost Accuracy: 0.9967\n",
            "Random Forest Accuracy: 0.9972\n",
            "Decision Tree Accuracy: 0.9943\n",
            "Bagging Accuracy: 0.9976\n",
            "AdaBoost Accuracy: 0.9848\n"
          ]
        }
      ]
    },
    {
      "cell_type": "code",
      "source": [
        "import pandas as pd\n",
        "\n",
        "# Load the unlabeled training dataset\n",
        "unlabeled_train_df = pd.read_csv(\"unlabeled_train_data.csv\")\n",
        "\n",
        "# Store pseudo-labeled datasets\n",
        "for name, model in models.items():\n",
        "    # Generate pseudo labels\n",
        "    pseudo_labels = model.predict(unlabeled_train_df)\n",
        "\n",
        "    # Create a new DataFrame with pseudo labels\n",
        "    pseudo_labeled_df = unlabeled_train_df.copy()\n",
        "    pseudo_labeled_df[\"pseudo_label\"] = pseudo_labels\n",
        "\n",
        "    # Save to CSV\n",
        "    file_name = f\"pseudo_labeled_{name.lower().replace(' ', '_')}.csv\"\n",
        "    pseudo_labeled_df.to_csv(file_name, index=False)\n",
        "    print(f\"Pseudo Labels generated using {name} and saved to '{file_name}'\")\n"
      ],
      "metadata": {
        "colab": {
          "base_uri": "https://localhost:8080/"
        },
        "id": "o7E8aDul8tvW",
        "outputId": "88107bb7-165d-4aa0-ee57-03965775096a"
      },
      "execution_count": null,
      "outputs": [
        {
          "output_type": "stream",
          "name": "stdout",
          "text": [
            "Pseudo Labels generated using XGBoost and saved to 'pseudo_labeled_xgboost.csv'\n",
            "Pseudo Labels generated using Random Forest and saved to 'pseudo_labeled_random_forest.csv'\n",
            "Pseudo Labels generated using Decision Tree and saved to 'pseudo_labeled_decision_tree.csv'\n",
            "Pseudo Labels generated using Bagging and saved to 'pseudo_labeled_bagging.csv'\n",
            "Pseudo Labels generated using AdaBoost and saved to 'pseudo_labeled_adaboost.csv'\n"
          ]
        }
      ]
    },
    {
      "cell_type": "code",
      "source": [
        "import numpy as np\n",
        "from scipy.stats import mode\n",
        "\n",
        "# Collect all pseudo-label predictions\n",
        "predictions = []\n",
        "\n",
        "for name, model in models.items():\n",
        "    preds = model.predict(unlabeled_train_df)\n",
        "    predictions.append(preds)\n",
        "\n",
        "# Convert predictions list to a NumPy array\n",
        "predictions = np.array(predictions)\n",
        "\n",
        "# Apply Majority Voting (mode function selects the most common label)\n",
        "final_pseudo_labels, _ = mode(predictions, axis=0)\n",
        "\n",
        "# Create a new DataFrame with final pseudo labels\n",
        "pseudo_labeled_mv_df = unlabeled_train_df.copy()\n",
        "pseudo_labeled_mv_df[\"pseudo_label\"] = final_pseudo_labels.flatten()  # Add pseudo labels\n",
        "\n",
        "# Save the majority-voted pseudo-labeled dataset\n",
        "pseudo_labeled_mv_df.to_csv(\"pseudo_labeled_majority_voting.csv\", index=False)\n",
        "print(\"Pseudo Labels generated using Majority Voting and saved to 'pseudo_labeled_majority_voting.csv'\")\n"
      ],
      "metadata": {
        "colab": {
          "base_uri": "https://localhost:8080/"
        },
        "id": "Aoe7djn9BK0P",
        "outputId": "6ec8fbb6-de57-4f88-d57c-dad6ac081d98"
      },
      "execution_count": null,
      "outputs": [
        {
          "output_type": "stream",
          "name": "stdout",
          "text": [
            "Pseudo Labels generated using Majority Voting and saved to 'pseudo_labeled_majority_voting.csv'\n"
          ]
        }
      ]
    },
    {
      "cell_type": "code",
      "source": [
        "import pandas as pd\n",
        "from sklearn.metrics import accuracy_score\n",
        "\n",
        "# Load the true labels (ground truth) for the Unlabeled Training Data\n",
        "true_labels = pd.read_csv(\"unlabeled_train_true_labels.csv\")\n",
        "\n",
        "# Define model-generated pseudo label file names\n",
        "pseudo_label_files = {\n",
        "    \"XGBoost\": \"pseudo_labeled_xgboost.csv\",\n",
        "    \"Random Forest\": \"pseudo_labeled_random_forest.csv\",\n",
        "    \"Decision Tree\": \"pseudo_labeled_decision_tree.csv\",\n",
        "    \"Bagging\": \"pseudo_labeled_bagging.csv\",\n",
        "    \"AdaBoost\": \"pseudo_labeled_adaboost.csv\",\n",
        "    \"Majority Voting\": \"pseudo_labeled_majority_voting.csv\"\n",
        "}\n",
        "\n",
        "# Store results\n",
        "accuracy_results = {}\n",
        "\n",
        "# Iterate through each model’s pseudo-labeled dataset\n",
        "for model_name, file_name in pseudo_label_files.items():\n",
        "    # Load pseudo labels\n",
        "    pseudo_labeled_df = pd.read_csv(file_name)\n",
        "\n",
        "    # Ensure the number of rows match\n",
        "    if len(true_labels) != len(pseudo_labeled_df):\n",
        "        print(f\"Warning: Mismatch in row counts for {model_name}. Skipping accuracy calculation.\")\n",
        "        continue\n",
        "\n",
        "    # Add the true labels to the pseudo-labeled dataset\n",
        "    comparison_df = pseudo_labeled_df.copy()\n",
        "    comparison_df[\"true_label\"] = true_labels  # Add original ground truth labels\n",
        "\n",
        "    # Calculate accuracy\n",
        "    accuracy = accuracy_score(comparison_df[\"true_label\"], comparison_df[\"pseudo_label\"])\n",
        "    accuracy_results[model_name] = accuracy\n",
        "    print(f\"{model_name} Pseudo Label Accuracy: {accuracy:.4f}\")\n"
      ],
      "metadata": {
        "colab": {
          "base_uri": "https://localhost:8080/"
        },
        "id": "rDoT3w7ZFR8W",
        "outputId": "cba446b7-50d1-4d78-baad-3d34cbd1f297"
      },
      "execution_count": null,
      "outputs": [
        {
          "output_type": "stream",
          "name": "stdout",
          "text": [
            "XGBoost Pseudo Label Accuracy: 0.9957\n",
            "Random Forest Pseudo Label Accuracy: 0.9967\n",
            "Decision Tree Pseudo Label Accuracy: 0.9948\n",
            "Bagging Pseudo Label Accuracy: 0.9957\n",
            "AdaBoost Pseudo Label Accuracy: 0.9844\n",
            "Majority Voting Pseudo Label Accuracy: 0.9965\n"
          ]
        }
      ]
    }
  ]
}